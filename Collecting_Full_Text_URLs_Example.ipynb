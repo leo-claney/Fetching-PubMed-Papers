{
  "nbformat": 4,
  "nbformat_minor": 0,
  "metadata": {
    "colab": {
      "provenance": []
    },
    "kernelspec": {
      "name": "python3",
      "display_name": "Python 3"
    },
    "language_info": {
      "name": "python"
    }
  },
  "cells": [
    {
      "cell_type": "code",
      "source": [
        "import requests\n",
        "from bs4 import BeautifulSoup\n",
        "\n",
        "def fetch_full_text_url(pmid):\n",
        "    url = f\"https://pubmed.ncbi.nlm.nih.gov/{pmid}/\"\n",
        "    response = requests.get(url)\n",
        "    soup = BeautifulSoup(response.content, 'html.parser')\n",
        "\n",
        "    full_text_div = soup.find('div', class_='full-text-links-list')\n",
        "    if full_text_div:\n",
        "        link = full_text_div.find('a', class_='link-item')\n",
        "        if link and 'href' in link.attrs:\n",
        "            return link['href']\n",
        "\n",
        "    return None\n",
        "\n",
        "# Example usage\n",
        "pmid = \"38721593\"\n",
        "full_text_url = fetch_full_text_url(pmid)\n",
        "if full_text_url:\n",
        "    print(f\"Full text URL: {full_text_url}\")\n",
        "else:\n",
        "    print(\"Full text URL not found.\")"
      ],
      "metadata": {
        "colab": {
          "base_uri": "https://localhost:8080/"
        },
        "id": "rE95A9czl6NH",
        "outputId": "1f96ab6c-f490-4902-ae42-7dc442f99d4f"
      },
      "execution_count": null,
      "outputs": [
        {
          "output_type": "stream",
          "name": "stdout",
          "text": [
            "Full text URL: https://onlinelibrary.wiley.com/doi/10.1111/eva.13695\n"
          ]
        }
      ]
    }
  ]
}