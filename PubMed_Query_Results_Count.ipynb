{
  "nbformat": 4,
  "nbformat_minor": 0,
  "metadata": {
    "colab": {
      "provenance": []
    },
    "kernelspec": {
      "name": "python3",
      "display_name": "Python 3"
    },
    "language_info": {
      "name": "python"
    }
  },
  "cells": [
    {
      "cell_type": "code",
      "execution_count": null,
      "metadata": {
        "colab": {
          "base_uri": "https://localhost:8080/"
        },
        "id": "CBG2cCPXURuO",
        "outputId": "680ccc39-89ad-46b3-eea9-e94e2b88cfda"
      },
      "outputs": [
        {
          "output_type": "stream",
          "name": "stdout",
          "text": [
            "{'longevity': 64290, 'Longevity biomarkers': 2564, 'Longevity and telomere length': 507}\n"
          ]
        }
      ],
      "source": [
        "import requests\n",
        "\n",
        "# Function to get the number of papers for a query\n",
        "def get_paper_count(query):\n",
        "    base_url = \"https://eutils.ncbi.nlm.nih.gov/entrez/eutils/esearch.fcgi?\"\n",
        "    params = {\n",
        "        \"db\": \"pubmed\",\n",
        "        \"term\": query,\n",
        "        \"retmode\": \"json\"\n",
        "    }\n",
        "    response = requests.get(base_url, params=params)\n",
        "    data = response.json()\n",
        "    return int(data[\"esearchresult\"][\"count\"])\n",
        "\n",
        "# Example usage\n",
        "queries = [\"longevity\", \"Longevity biomarkers\", \"Longevity and telomere length\"]\n",
        "query_counts = {query: get_paper_count(query) for query in queries}\n",
        "print(query_counts)"
      ]
    }
  ]
}